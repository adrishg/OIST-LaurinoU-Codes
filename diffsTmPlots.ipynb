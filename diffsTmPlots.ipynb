{
  "nbformat": 4,
  "nbformat_minor": 0,
  "metadata": {
    "colab": {
      "name": "diffsTmPlots.ipynb",
      "provenance": [],
      "collapsed_sections": []
    },
    "kernelspec": {
      "name": "python3",
      "display_name": "Python 3"
    },
    "language_info": {
      "name": "python"
    }
  },
  "cells": [
    {
      "cell_type": "code",
      "execution_count": 4,
      "metadata": {
        "id": "pJwsyZqRcLz_"
      },
      "outputs": [],
      "source": [
        "%matplotlib inline\n",
        "\n",
        "import matplotlib.pyplot as plt\n",
        "from google.colab import files\n",
        "import numpy as np\n",
        "import re"
      ]
    },
    {
      "cell_type": "code",
      "source": [
        "listOfdicts = []"
      ],
      "metadata": {
        "id": "3lJqxdrNi-Am"
      },
      "execution_count": 5,
      "outputs": []
    },
    {
      "cell_type": "code",
      "source": [
        "def getAncestorKey(dict):\n",
        "  mutants = list(dict.keys())\n",
        "  exp = re.compile(\"^Anc\")\n",
        "  result = list(filter(exp.match, mutants)) \n",
        "  return result[0]\n",
        "\n",
        "def getMutant(dict):\n",
        "  mutants= list(dict.keys())\n",
        "  result = re.search(r\".*([0-9]{2}_?[A-Z]*)_[0-1]\", ''.join(list(dict.keys())))\n",
        "  try:\n",
        "    return(result.group(1))\n",
        "  except:\n",
        "    return(\"Default-Image-Name\")\n",
        "\n",
        "def diffPlot(dict):\n",
        "  fig = plt.figure(facecolor=(1, 1, 1))\n",
        "  ax = fig.add_axes([0,0,1,1])\n",
        "  mutants = list(dict.keys())\n",
        "  f = lambda x: x-dict[getAncestorKey(dict)]\n",
        "  diffs =[f(x) for x in list(dict.values())]\n",
        "\n",
        "  colorInBars = [\"blue\" if val >= 0 else \"red\" for val in diffs]\n",
        "  plt.bar(mutants, diffs, color=colorInBars)\n",
        "  plt.xticks( rotation='vertical')\n",
        "  plt.savefig(getMutant(dict)+\".png\", transparent=True)\n",
        "  files.download(getMutant(dict)+\".png\") \n",
        "  plt.show()"
      ],
      "metadata": {
        "id": "FrfBLlZPcRc9"
      },
      "execution_count": 6,
      "outputs": []
    },
    {
      "cell_type": "code",
      "source": [
        "#Insertion Loop IV in Anc 1\n",
        "Anc1_loopIV = {\"Ancestor 1\" :\t53.28,\n",
        "\"Node15_LIV_00111\" : 53.61,\n",
        "\"Node15_LIV_11000\" : 53.66,\n",
        "\"Node15_LIV_11110\" : 53.60,\n",
        "\"Node15_LIV_11111\" : 54.10}\n",
        "\n",
        "#diffPlot(Anc1_loopIV)\n",
        "listOfdicts.append(Anc1_loopIV)"
      ],
      "metadata": {
        "id": "ZyxpWMw3_OmT"
      },
      "execution_count": 7,
      "outputs": []
    },
    {
      "cell_type": "code",
      "source": [
        "#Insertion Loop V in Anc 1\n",
        "Anc1_loopV={\"Ancestor 1\" : 53.28,\n",
        "\"15LV_000000000001\" : 51.73,\n",
        "\"15LV_000000000011\" : 53.46,\n",
        "\"15LV_000000000111\" : 55.43,\n",
        "\"15LV_000000001111\" : 55.34,\n",
        "\"15LV_000011111111\" : 52.20,\n",
        "\"15LV_000111111111\" : 58.14,\n",
        "\"15LV_011111111111\" : 54.09,\n",
        "\"15LV_111111111111\" : 51.03,\n",
        "\"15LV_111111100000\" : 50.66,\n",
        "\"15LV_111111110000\" : 53.40,\n",
        "\"15LV_111111111000\" : 52.41,\n",
        "\"15LV_111111111110\" : 49.78}\n",
        "\n",
        "#diffPlot(Anc1_loopV)\n",
        "listOfdicts.append(Anc1_loopV)"
      ],
      "metadata": {
        "id": "gadGVqffcRq9"
      },
      "execution_count": 8,
      "outputs": []
    },
    {
      "cell_type": "code",
      "source": [
        "#Insertion C Terminal Loop in Anc 1\n",
        "Anc1_loopC = {\"Ancestor 1\" : 53.28,\n",
        "\"B15LC_0000001\" : 50.28,\n",
        "\"C15LC_0011111\" : 51.42,\n",
        "\"D15LC_0111111\" : 50.61,\n",
        "\"E15LC_1100000\" : 49.74,\n",
        "\"F15LC_1110000\" : 48.27,\n",
        "\"G15LC_1111000\" : 43.04,\n",
        "\"H15LC_1111100\" : 51.33,\n",
        "\"I15LC_1111110\" : 47.07,\n",
        "\"J15LC_1111111\" : 47.51}\n",
        "\n",
        "#diffPlot(Anc1_loopC)\n",
        "listOfdicts.append(Anc1_loopC)"
      ],
      "metadata": {
        "id": "tJM3qiYScR1M"
      },
      "execution_count": 9,
      "outputs": []
    },
    {
      "cell_type": "code",
      "source": [
        "#Deletion of Loop IV in Anc 3\n",
        "Anc3_LoopIV = {\"Ancestor 3 \" : 66.88,\n",
        "\"16LIV_01111\" : 59.84,\n",
        "\"16LIV_00001\" : 56.13,\n",
        "\"16LIV_11110\" : 61.38,\n",
        "\"16LIV_11100\" : 58.23,\n",
        "\"16LIV_11000\" : 57.16}\n",
        "\n",
        "#diffPlot(Anc3_LoopIV)\n",
        "listOfdicts.append(Anc3_LoopIV)"
      ],
      "metadata": {
        "id": "sWH4h8dXcR33"
      },
      "execution_count": 10,
      "outputs": []
    },
    {
      "cell_type": "code",
      "source": [
        "#Deletion of Loop V in Anc 3\n",
        "Anc3_LoopV= {\"Ancestor3(Acid condition)\": 66.88,\n",
        "\"16LV_011111111111\": 56.35,\n",
        "\"16LV_001111111111\": 56.33,\n",
        "\"16LV_000111111111\": 54.75,\n",
        "\"16LV_000011111111\": 53.45,\n",
        "\"16LV_000001111111\": 56.70,\n",
        "\"16LV_000000111111\": 56.37,\n",
        "\"16LV_000000011111\": 59.63,\n",
        "\"16LV_000000001111\": 56.12,\n",
        "\"16LV_000000000111\": 54.70,\n",
        "\"16LV_000000000011\": 57.51,\n",
        "\"16LV_000000000001\": 56.00,\n",
        "\"16LV_111111111110\": 59.83,\n",
        "\"16LV_111111111100\": 65.11,\n",
        "\"16LV_111111111000\": 59.47,\n",
        "\"16LV_111111110000\": 61.14,\n",
        "\"16LV_111111100000\": 59.19,\n",
        "\"16LV_111111000000\": 58.48,\n",
        "\"16LV_111110000000\": 54.77,\n",
        "\"16LV_111100000000\": 57.13,\n",
        "\"16LV_111000000000\" :\t58.05,\n",
        "\"16LV_110000000000\"\t: 60.73,\n",
        "\"16LV_100000000000\"\t: 55.18,\n",
        "\"16LV_000000000000\"\t: 53.53}\n",
        "\n",
        "#diffPlot(Anc3_LoopV)\n",
        "listOfdicts.append(Anc3_LoopV)"
      ],
      "metadata": {
        "id": "wuHuudjDcR6i"
      },
      "execution_count": 11,
      "outputs": []
    },
    {
      "cell_type": "code",
      "source": [
        "#Deletion of C Terminal Loop in Anc 3\n",
        "Anc3_LoopC = {\"Anc3(Acid condition)\" : 66.88,\n",
        "\"B16LC_0111111\" : 61.13,\n",
        "\"C16LC_0011111\" : 57.85,\n",
        "\"D16LC_0001111\" : 57.97,\n",
        "\"E16LC_0000111\" : 55.91,\n",
        "\"F16LC_0000011\" : 57.57,\n",
        "\"G16LC_0000001\" : 57.99,\n",
        "\"H16LC_1111110\" : 60.38,\n",
        "\"I16LC_1111100\" : 59.14,\n",
        "\"J16LC_1111000\" : 60.20,\n",
        "\"K16LC_1110000\" : 57.95,\n",
        "\"L16LC_1100000\" : 59.86,\n",
        "\"M16LC_1000000\" : 57.77,\n",
        "\"N16LC_0000000\" : 57.73}\n",
        "\n",
        "diffPlot(Anc3_LoopC)\n",
        "#listOfdicts.append(Anc3_LoopC)"
      ],
      "metadata": {
        "id": "uZ2OPvXhcR88",
        "colab": {
          "base_uri": "https://localhost:8080/",
          "height": 434
        },
        "outputId": "fed55812-cd98-413b-df79-17b8f65cc311"
      },
      "execution_count": 12,
      "outputs": [
        {
          "output_type": "display_data",
          "data": {
            "text/plain": [
              "<IPython.core.display.Javascript object>"
            ],
            "application/javascript": [
              "\n",
              "    async function download(id, filename, size) {\n",
              "      if (!google.colab.kernel.accessAllowed) {\n",
              "        return;\n",
              "      }\n",
              "      const div = document.createElement('div');\n",
              "      const label = document.createElement('label');\n",
              "      label.textContent = `Downloading \"${filename}\": `;\n",
              "      div.appendChild(label);\n",
              "      const progress = document.createElement('progress');\n",
              "      progress.max = size;\n",
              "      div.appendChild(progress);\n",
              "      document.body.appendChild(div);\n",
              "\n",
              "      const buffers = [];\n",
              "      let downloaded = 0;\n",
              "\n",
              "      const channel = await google.colab.kernel.comms.open(id);\n",
              "      // Send a message to notify the kernel that we're ready.\n",
              "      channel.send({})\n",
              "\n",
              "      for await (const message of channel.messages) {\n",
              "        // Send a message to notify the kernel that we're ready.\n",
              "        channel.send({})\n",
              "        if (message.buffers) {\n",
              "          for (const buffer of message.buffers) {\n",
              "            buffers.push(buffer);\n",
              "            downloaded += buffer.byteLength;\n",
              "            progress.value = downloaded;\n",
              "          }\n",
              "        }\n",
              "      }\n",
              "      const blob = new Blob(buffers, {type: 'application/binary'});\n",
              "      const a = document.createElement('a');\n",
              "      a.href = window.URL.createObjectURL(blob);\n",
              "      a.download = filename;\n",
              "      div.appendChild(a);\n",
              "      a.click();\n",
              "      div.remove();\n",
              "    }\n",
              "  "
            ]
          },
          "metadata": {}
        },
        {
          "output_type": "display_data",
          "data": {
            "text/plain": [
              "<IPython.core.display.Javascript object>"
            ],
            "application/javascript": [
              "download(\"download_4f55a96e-f6f6-4847-b8c3-c96d80ecc562\", \"16LC.png\", 1513)"
            ]
          },
          "metadata": {}
        },
        {
          "output_type": "display_data",
          "data": {
            "text/plain": [
              "<Figure size 432x288 with 1 Axes>"
            ],
            "image/png": "[encoded data removed]"
          },
          "metadata": {}
        }
      ]
    },
    {
      "cell_type": "code",
      "source": [
        "for dict in listOfdicts:\n",
        "  diffPlot(dict)"
      ],
      "metadata": {
        "id": "8PD1eJnvcR_x",
        "colab": {
          "base_uri": "https://localhost:8080/",
          "height": 1000
        },
        "outputId": "da8a91e8-fa15-417c-cc13-0ac0d641f523"
      },
      "execution_count": 13,
      "outputs": [
        {
          "output_type": "display_data",
          "data": {
            "text/plain": [
              "<IPython.core.display.Javascript object>"
            ],
            "application/javascript": [
              "\n",
              "    async function download(id, filename, size) {\n",
              "      if (!google.colab.kernel.accessAllowed) {\n",
              "        return;\n",
              "      }\n",
              "      const div = document.createElement('div');\n",
              "      const label = document.createElement('label');\n",
              "      label.textContent = `Downloading \"${filename}\": `;\n",
              "      div.appendChild(label);\n",
              "      const progress = document.createElement('progress');\n",
              "      progress.max = size;\n",
              "      div.appendChild(progress);\n",
              "      document.body.appendChild(div);\n",
              "\n",
              "      const buffers = [];\n",
              "      let downloaded = 0;\n",
              "\n",
              "      const channel = await google.colab.kernel.comms.open(id);\n",
              "      // Send a message to notify the kernel that we're ready.\n",
              "      channel.send({})\n",
              "\n",
              "      for await (const message of channel.messages) {\n",
              "        // Send a message to notify the kernel that we're ready.\n",
              "        channel.send({})\n",
              "        if (message.buffers) {\n",
              "          for (const buffer of message.buffers) {\n",
              "            buffers.push(buffer);\n",
              "            downloaded += buffer.byteLength;\n",
              "            progress.value = downloaded;\n",
              "          }\n",
              "        }\n",
              "      }\n",
              "      const blob = new Blob(buffers, {type: 'application/binary'});\n",
              "      const a = document.createElement('a');\n",
              "      a.href = window.URL.createObjectURL(blob);\n",
              "      a.download = filename;\n",
              "      div.appendChild(a);\n",
              "      a.click();\n",
              "      div.remove();\n",
              "    }\n",
              "  "
            ]
          },
          "metadata": {}
        },
        {
          "output_type": "display_data",
          "data": {
            "text/plain": [
              "<IPython.core.display.Javascript object>"
            ],
            "application/javascript": [
              "download(\"download_e08bd66f-20a4-486f-81d4-5af22466f581\", \"15_LIV.png\", 1418)"
            ]
          },
          "metadata": {}
        },
        {
          "output_type": "display_data",
          "data": {
            "text/plain": [
              "<Figure size 432x288 with 1 Axes>"
            ],
            "image/png": "[encoded data removed]"
          },
          "metadata": {}
        },
        {
          "output_type": "display_data",
          "data": {
            "text/plain": [
              "<IPython.core.display.Javascript object>"
            ],
            "application/javascript": [
              "\n",
              "    async function download(id, filename, size) {\n",
              "      if (!google.colab.kernel.accessAllowed) {\n",
              "        return;\n",
              "      }\n",
              "      const div = document.createElement('div');\n",
              "      const label = document.createElement('label');\n",
              "      label.textContent = `Downloading \"${filename}\": `;\n",
              "      div.appendChild(label);\n",
              "      const progress = document.createElement('progress');\n",
              "      progress.max = size;\n",
              "      div.appendChild(progress);\n",
              "      document.body.appendChild(div);\n",
              "\n",
              "      const buffers = [];\n",
              "      let downloaded = 0;\n",
              "\n",
              "      const channel = await google.colab.kernel.comms.open(id);\n",
              "      // Send a message to notify the kernel that we're ready.\n",
              "      channel.send({})\n",
              "\n",
              "      for await (const message of channel.messages) {\n",
              "        // Send a message to notify the kernel that we're ready.\n",
              "        channel.send({})\n",
              "        if (message.buffers) {\n",
              "          for (const buffer of message.buffers) {\n",
              "            buffers.push(buffer);\n",
              "            downloaded += buffer.byteLength;\n",
              "            progress.value = downloaded;\n",
              "          }\n",
              "        }\n",
              "      }\n",
              "      const blob = new Blob(buffers, {type: 'application/binary'});\n",
              "      const a = document.createElement('a');\n",
              "      a.href = window.URL.createObjectURL(blob);\n",
              "      a.download = filename;\n",
              "      div.appendChild(a);\n",
              "      a.click();\n",
              "      div.remove();\n",
              "    }\n",
              "  "
            ]
          },
          "metadata": {}
        },
        {
          "output_type": "display_data",
          "data": {
            "text/plain": [
              "<IPython.core.display.Javascript object>"
            ],
            "application/javascript": [
              "download(\"download_eab51900-7b46-48c9-a384-34a498205a38\", \"15LV.png\", 1492)"
            ]
          },
          "metadata": {}
        },
        {
          "output_type": "display_data",
          "data": {
            "text/plain": [
              "<Figure size 432x288 with 1 Axes>"
            ],
            "image/png": "[encoded data removed]"
          },
          "metadata": {}
        },
        {
          "output_type": "display_data",
          "data": {
            "text/plain": [
              "<IPython.core.display.Javascript object>"
            ],
            "application/javascript": [
              "\n",
              "    async function download(id, filename, size) {\n",
              "      if (!google.colab.kernel.accessAllowed) {\n",
              "        return;\n",
              "      }\n",
              "      const div = document.createElement('div');\n",
              "      const label = document.createElement('label');\n",
              "      label.textContent = `Downloading \"${filename}\": `;\n",
              "      div.appendChild(label);\n",
              "      const progress = document.createElement('progress');\n",
              "      progress.max = size;\n",
              "      div.appendChild(progress);\n",
              "      document.body.appendChild(div);\n",
              "\n",
              "      const buffers = [];\n",
              "      let downloaded = 0;\n",
              "\n",
              "      const channel = await google.colab.kernel.comms.open(id);\n",
              "      // Send a message to notify the kernel that we're ready.\n",
              "      channel.send({})\n",
              "\n",
              "      for await (const message of channel.messages) {\n",
              "        // Send a message to notify the kernel that we're ready.\n",
              "        channel.send({})\n",
              "        if (message.buffers) {\n",
              "          for (const buffer of message.buffers) {\n",
              "            buffers.push(buffer);\n",
              "            downloaded += buffer.byteLength;\n",
              "            progress.value = downloaded;\n",
              "          }\n",
              "        }\n",
              "      }\n",
              "      const blob = new Blob(buffers, {type: 'application/binary'});\n",
              "      const a = document.createElement('a');\n",
              "      a.href = window.URL.createObjectURL(blob);\n",
              "      a.download = filename;\n",
              "      div.appendChild(a);\n",
              "      a.click();\n",
              "      div.remove();\n",
              "    }\n",
              "  "
            ]
          },
          "metadata": {}
        },
        {
          "output_type": "display_data",
          "data": {
            "text/plain": [
              "<IPython.core.display.Javascript object>"
            ],
            "application/javascript": [
              "download(\"download_010f285b-8863-4e28-97ef-f86793becb59\", \"15LC.png\", 1469)"
            ]
          },
          "metadata": {}
        },
        {
          "output_type": "display_data",
          "data": {
            "text/plain": [
              "<Figure size 432x288 with 1 Axes>"
            ],
            "image/png": "[encoded data removed]"
          },
          "metadata": {}
        },
        {
          "output_type": "display_data",
          "data": {
            "text/plain": [
              "<IPython.core.display.Javascript object>"
            ],
            "application/javascript": [
              "\n",
              "    async function download(id, filename, size) {\n",
              "      if (!google.colab.kernel.accessAllowed) {\n",
              "        return;\n",
              "      }\n",
              "      const div = document.createElement('div');\n",
              "      const label = document.createElement('label');\n",
              "      label.textContent = `Downloading \"${filename}\": `;\n",
              "      div.appendChild(label);\n",
              "      const progress = document.createElement('progress');\n",
              "      progress.max = size;\n",
              "      div.appendChild(progress);\n",
              "      document.body.appendChild(div);\n",
              "\n",
              "      const buffers = [];\n",
              "      let downloaded = 0;\n",
              "\n",
              "      const channel = await google.colab.kernel.comms.open(id);\n",
              "      // Send a message to notify the kernel that we're ready.\n",
              "      channel.send({})\n",
              "\n",
              "      for await (const message of channel.messages) {\n",
              "        // Send a message to notify the kernel that we're ready.\n",
              "        channel.send({})\n",
              "        if (message.buffers) {\n",
              "          for (const buffer of message.buffers) {\n",
              "            buffers.push(buffer);\n",
              "            downloaded += buffer.byteLength;\n",
              "            progress.value = downloaded;\n",
              "          }\n",
              "        }\n",
              "      }\n",
              "      const blob = new Blob(buffers, {type: 'application/binary'});\n",
              "      const a = document.createElement('a');\n",
              "      a.href = window.URL.createObjectURL(blob);\n",
              "      a.download = filename;\n",
              "      div.appendChild(a);\n",
              "      a.click();\n",
              "      div.remove();\n",
              "    }\n",
              "  "
            ]
          },
          "metadata": {}
        },
        {
          "output_type": "display_data",
          "data": {
            "text/plain": [
              "<IPython.core.display.Javascript object>"
            ],
            "application/javascript": [
              "download(\"download_86e4fbc1-06fd-465a-830e-75a2d7775394\", \"16LIV.png\", 1458)"
            ]
          },
          "metadata": {}
        },
        {
          "output_type": "display_data",
          "data": {
            "text/plain": [
              "<Figure size 432x288 with 1 Axes>"
            ],
            "image/png": "[encoded data removed]"
          },
          "metadata": {}
        },
        {
          "output_type": "display_data",
          "data": {
            "text/plain": [
              "<IPython.core.display.Javascript object>"
            ],
            "application/javascript": [
              "\n",
              "    async function download(id, filename, size) {\n",
              "      if (!google.colab.kernel.accessAllowed) {\n",
              "        return;\n",
              "      }\n",
              "      const div = document.createElement('div');\n",
              "      const label = document.createElement('label');\n",
              "      label.textContent = `Downloading \"${filename}\": `;\n",
              "      div.appendChild(label);\n",
              "      const progress = document.createElement('progress');\n",
              "      progress.max = size;\n",
              "      div.appendChild(progress);\n",
              "      document.body.appendChild(div);\n",
              "\n",
              "      const buffers = [];\n",
              "      let downloaded = 0;\n",
              "\n",
              "      const channel = await google.colab.kernel.comms.open(id);\n",
              "      // Send a message to notify the kernel that we're ready.\n",
              "      channel.send({})\n",
              "\n",
              "      for await (const message of channel.messages) {\n",
              "        // Send a message to notify the kernel that we're ready.\n",
              "        channel.send({})\n",
              "        if (message.buffers) {\n",
              "          for (const buffer of message.buffers) {\n",
              "            buffers.push(buffer);\n",
              "            downloaded += buffer.byteLength;\n",
              "            progress.value = downloaded;\n",
              "          }\n",
              "        }\n",
              "      }\n",
              "      const blob = new Blob(buffers, {type: 'application/binary'});\n",
              "      const a = document.createElement('a');\n",
              "      a.href = window.URL.createObjectURL(blob);\n",
              "      a.download = filename;\n",
              "      div.appendChild(a);\n",
              "      a.click();\n",
              "      div.remove();\n",
              "    }\n",
              "  "
            ]
          },
          "metadata": {}
        },
        {
          "output_type": "display_data",
          "data": {
            "text/plain": [
              "<IPython.core.display.Javascript object>"
            ],
            "application/javascript": [
              "download(\"download_88eadf90-df03-4d33-9df1-d09aae5e013e\", \"16LV.png\", 1547)"
            ]
          },
          "metadata": {}
        },
        {
          "output_type": "display_data",
          "data": {
            "text/plain": [
              "<Figure size 432x288 with 1 Axes>"
            ],
            "image/png": "[encoded data removed]"
          },
          "metadata": {}
        }
      ]
    }
  ]
}